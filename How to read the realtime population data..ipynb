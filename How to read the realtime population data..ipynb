{
 "cells": [
  {
   "cell_type": "code",
   "execution_count": 1,
   "id": "ed8bfe2a",
   "metadata": {
    "scrolled": true
   },
   "outputs": [
    {
     "name": "stdout",
     "output_type": "stream",
     "text": [
      "Collecting pymem\n",
      "  Downloading Pymem-1.10.0-py3-none-any.whl (28 kB)\n",
      "Installing collected packages: pymem\n",
      "Successfully installed pymem-1.10.0\n",
      "Note: you may need to restart the kernel to use updated packages.\n"
     ]
    }
   ],
   "source": [
    "pip install pymem"
   ]
  },
  {
   "cell_type": "code",
   "execution_count": 2,
   "id": "323c40b1",
   "metadata": {
    "scrolled": true
   },
   "outputs": [
    {
     "ename": "AttributeError",
     "evalue": "module 'pymem.process' has no attribute 'iterator'",
     "output_type": "error",
     "traceback": [
      "\u001b[0;31m---------------------------------------------------------------------------\u001b[0m",
      "\u001b[0;31mAttributeError\u001b[0m                            Traceback (most recent call last)",
      "Cell \u001b[0;32mIn[2], line 22\u001b[0m\n\u001b[1;32m     19\u001b[0m     \u001b[38;5;28mprint\u001b[39m(\u001b[38;5;124mf\u001b[39m\u001b[38;5;124m\"\u001b[39m\u001b[38;5;124mCurrent population: \u001b[39m\u001b[38;5;132;01m{\u001b[39;00mpopulation\u001b[38;5;132;01m}\u001b[39;00m\u001b[38;5;124m/\u001b[39m\u001b[38;5;132;01m{\u001b[39;00mpopulation_cap\u001b[38;5;132;01m}\u001b[39;00m\u001b[38;5;124m\"\u001b[39m)\n\u001b[1;32m     21\u001b[0m \u001b[38;5;28;01mif\u001b[39;00m \u001b[38;5;18m__name__\u001b[39m \u001b[38;5;241m==\u001b[39m \u001b[38;5;124m\"\u001b[39m\u001b[38;5;124m__main__\u001b[39m\u001b[38;5;124m\"\u001b[39m:\n\u001b[0;32m---> 22\u001b[0m     \u001b[43mmain\u001b[49m\u001b[43m(\u001b[49m\u001b[43m)\u001b[49m\n",
      "Cell \u001b[0;32mIn[2], line 10\u001b[0m, in \u001b[0;36mmain\u001b[0;34m()\u001b[0m\n\u001b[1;32m      9\u001b[0m \u001b[38;5;28;01mdef\u001b[39;00m \u001b[38;5;21mmain\u001b[39m():\n\u001b[0;32m---> 10\u001b[0m     starcraft \u001b[38;5;241m=\u001b[39m \u001b[43mfind_starcraft_process\u001b[49m\u001b[43m(\u001b[49m\u001b[43m)\u001b[49m\n\u001b[1;32m     12\u001b[0m     \u001b[38;5;66;03m# Replace these placeholders with the actual memory addresses you've found\u001b[39;00m\n\u001b[1;32m     13\u001b[0m     player_population_address \u001b[38;5;241m=\u001b[39m \u001b[38;5;241m0x12345678\u001b[39m\n",
      "Cell \u001b[0;32mIn[2], line 4\u001b[0m, in \u001b[0;36mfind_starcraft_process\u001b[0;34m()\u001b[0m\n\u001b[1;32m      3\u001b[0m \u001b[38;5;28;01mdef\u001b[39;00m \u001b[38;5;21mfind_starcraft_process\u001b[39m():\n\u001b[0;32m----> 4\u001b[0m     \u001b[38;5;28;01mfor\u001b[39;00m process \u001b[38;5;129;01min\u001b[39;00m \u001b[43mpymem\u001b[49m\u001b[38;5;241;43m.\u001b[39;49m\u001b[43mprocess\u001b[49m\u001b[38;5;241;43m.\u001b[39;49m\u001b[43miterator\u001b[49m():\n\u001b[1;32m      5\u001b[0m         \u001b[38;5;28;01mif\u001b[39;00m process\u001b[38;5;241m.\u001b[39mname()\u001b[38;5;241m.\u001b[39mlower() \u001b[38;5;241m==\u001b[39m \u001b[38;5;124m\"\u001b[39m\u001b[38;5;124mstarcraft.exe\u001b[39m\u001b[38;5;124m\"\u001b[39m:\n\u001b[1;32m      6\u001b[0m             \u001b[38;5;28;01mreturn\u001b[39;00m pymem\u001b[38;5;241m.\u001b[39mPymem(process\u001b[38;5;241m.\u001b[39mpid)\n",
      "\u001b[0;31mAttributeError\u001b[0m: module 'pymem.process' has no attribute 'iterator'"
     ]
    }
   ],
   "source": [
    "import time\n",
    "import pymem\n",
    "\n",
    "def find_starcraft_process():\n",
    "    for process in pymem.process.iterator():\n",
    "        if process.name().lower() == \"starcraft.exe\":\n",
    "            return pymem.Pymem(process.pid)\n",
    "    raise Exception(\"StarCraft process not found\")\n",
    "\n",
    "def main():\n",
    "    starcraft = find_starcraft_process()\n",
    "\n",
    "    # Replace this placeholder with the actual memory address you've found\n",
    "    player_population_address = 0x12345678\n",
    "\n",
    "    while True:\n",
    "        population = starcraft.read_int(player_population_address)\n",
    "        print(f\"Current population: {population}\")\n",
    "        time.sleep(1)\n",
    "\n",
    "if __name__ == \"__main__\":\n",
    "    main()\n"
   ]
  },
  {
   "cell_type": "code",
   "execution_count": 3,
   "id": "4e47ca12",
   "metadata": {},
   "outputs": [],
   "source": [
    "# 요약 하자면,"
   ]
  },
  {
   "cell_type": "code",
   "execution_count": null,
   "id": "04dea88a",
   "metadata": {},
   "outputs": [],
   "source": [
    "# Cheat engine 이라는 것을 쓰면은, 게임하면서 컴퓨터 메모리에 있는 인구수 정보나\n",
    "#읽을 수가 있는데, 이거를 읽는게 우선 작업인 것 같음.\n",
    "# 위에 코드가 이제 pymem 이라는 건데, 이게 memory 접속 하는것 같고, 여기서 메모리 주소를 알려줌.\n",
    "#이제 그 주소를 얻어서 cheat engine에 넣으면은 엔진이 이제 거기 접속해서 데이터를 읽는거 같음."
   ]
  }
 ],
 "metadata": {
  "kernelspec": {
   "display_name": "Python 3 (ipykernel)",
   "language": "python",
   "name": "python3"
  },
  "language_info": {
   "codemirror_mode": {
    "name": "ipython",
    "version": 3
   },
   "file_extension": ".py",
   "mimetype": "text/x-python",
   "name": "python",
   "nbconvert_exporter": "python",
   "pygments_lexer": "ipython3",
   "version": "3.10.9"
  }
 },
 "nbformat": 4,
 "nbformat_minor": 5
}
